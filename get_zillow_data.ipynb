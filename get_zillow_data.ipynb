import os
from bs4 import BeautifulSoup
from selenium import webdriver
from selenium.webdriver.common.keys import Keys
from selenium.webdriver.common.by import By
import time
import sys
import numpy as np
import pandas as pd
import regex as re
import requests
import lxml
from lxml.html.soupparser import fromstring
import prettify
import numbers
import htmltext
import re

def get_response_from_zipcode(zipcode=None):
    # pass in zipcode
    if zipcode is None:
        return None
    req_headers = {
        'accept': 'text/html,application/xhtml+xml,application/xml;q=0.9,image/webp,image/apng,*/*;q=0.8',
        'accept-encoding': 'gzip, deflate, br',
        'accept-language': 'en-US,en;q=0.8',
        'upgrade-insecure-requests': '1',
        'user-agent': 'Mozilla/5.0 (Windows NT 10.0; Win64; x64) AppleWebKit/537.36 (KHTML, like Gecko) Chrome/61.0.3163.100 Safari/537.36'
    }
    with requests.Session() as s:
        #url = 'https://www.zillow.com/homes/for_rent/'+ city + '/'
        #url = "https://www.zillow.com/homes/for_rent/95133_rb"
        url = "https://www.zillow.com/homes/for_rent/{0}/0_singlestory/pricea_sort".format(zipcode)
        #url = "https://www.zillow.com/homes/for_rent/{0}_rb/?fromHomePage=true&shouldFireSellPageImplicitClaimGA=false&fromHomePageTab=buy".format(zipcode)
        r = s.get(url, headers=req_headers)
    return r

def get_price(string = None):
    if string is None:
        return None
    pattern = '"price":([0-9]+)'
    return re.findall(pattern, string)

def get_days_on_zillow(string = None):
    if string is None:
        return None
    pattern = '"daysOnZillow":([0-9]+)'
    return re.findall(pattern, string)

def get_home_size(string = None):
    if string is None:
        return None
    pattern = '"area":([0-9]+)'
    return re.findall(pattern, string)

def get_home_city(string = None):
    if string is None:
        return None
    pattern = '"addressCity":("[A-Za-z\s]+")'
    return re.findall(pattern, string)

def get_home_state(string = None):
    if string is None:
        return None
    pattern = '"addressState":("[A-Z]+")'
    return re.findall(pattern, string)

def get_home_city(string = None):
    if string is None:
        return None
    pattern = '"addressCity":("[A-Za-z\s]+")'
    return re.findall(pattern, string)

def get_home_type(string = None):
    if string is None:
        return None
    pattern = '"homeType":("[A-Za-z\s_]+")'
    return re.findall(pattern, string)

def get_home_link(string = None):
    if string is None:
        return None
    pattern = '"detailUrl":("https:[a-zA-Z.\/:0-9-_]+")'
    return re.findall(pattern, string)

def get_bed_rooms(string = None):
    if string is None:
        return None
    pattern = '"bedrooms":([0-9]+)'
    return re.findall(pattern, string)

def get_bath_rooms(string = None):
    if string is None:
        return None
    pattern = '"bathrooms":([0-9]+)'
    return re.findall(pattern, string)

def get_total_pages(string = None):
    if string is None:
        return None
    pattern = '"totalPages":([0-9]+)'
    return re.findall(pattern, string)

####################
zip_codes = ['95133','95014','95132','95131','95134','78641','78613','78762']
###################

df_all = pd.DataFrame()
for zipcode in zip_codes:
    r = get_response_from_zipcode(zipcode)
    string = r.text
    df['days_on_zillow'] = pd.DataFrame(get_days_on_zillow(string))
    df['bed_rooms'] = pd.DataFrame(get_bed_rooms(string))
    df['bath_rooms'] = pd.DataFrame(get_bath_rooms(string))
    df['city'] = pd.DataFrame(get_home_city(string))
    df['state'] = pd.DataFrame(get_home_state(string))
    df['price'] = pd.DataFrame(get_price(string))
    df['home_type'] = pd.DataFrame(get_home_type(string))
    df['home_link'] = pd.DataFrame(get_home_link(string))
    df['total_pages'] = pd.DataFrame([get_total_pages(string)]*len(get_days_on_zillow(string)))
    df_all=df_all.append(df,ignore_index=True).dropna()





